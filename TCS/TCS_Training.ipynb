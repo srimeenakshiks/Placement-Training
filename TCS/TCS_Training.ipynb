{
  "nbformat": 4,
  "nbformat_minor": 0,
  "metadata": {
    "colab": {
      "provenance": []
    },
    "kernelspec": {
      "name": "python3",
      "display_name": "Python 3"
    },
    "language_info": {
      "name": "python"
    }
  },
  "cells": [
    {
      "cell_type": "markdown",
      "source": [
        "Take an input, find the factorial of the number, and print the last non zero number"
      ],
      "metadata": {
        "id": "nwY5FQm_7ygB"
      }
    },
    {
      "cell_type": "code",
      "execution_count": null,
      "metadata": {
        "colab": {
          "base_uri": "https://localhost:8080/"
        },
        "id": "S623346f7oQW",
        "outputId": "3f8c0510-0808-43d6-a277-dbd1cc5e5f30"
      },
      "outputs": [
        {
          "output_type": "stream",
          "name": "stdout",
          "text": [
            "5\n",
            "120\n",
            "2\n"
          ]
        }
      ],
      "source": [
        "n = int(input()) #input\n",
        "\n",
        "for i in range(1, n): #factorial\n",
        "    n *= i\n",
        "\n",
        "print(n)\n",
        "\n",
        "while n % 10 == 0: #chk the last digit\n",
        "    n //= 10\n",
        "\n",
        "print(n % 10)"
      ]
    },
    {
      "cell_type": "markdown",
      "source": [
        "Take an integer input and do the following to reduce it to zero:\n",
        "1. take one of the divisors of n other than n and subtract it from n.\n",
        "2. perform the above operation till the original number is reduced to 0.\n",
        "\n",
        "The task here is to find the minimum number of steps needed to reduce the number to zero."
      ],
      "metadata": {
        "id": "-cJLFc6k7-Sn"
      }
    },
    {
      "cell_type": "code",
      "source": [
        "n = int(input()) #input\n",
        "\n",
        "c = 0\n",
        "while (n!=0):\n",
        "  for i in range(1, n):\n",
        "      if n%i == 0:\n",
        "            d = i\n",
        "  n = n-d\n",
        "  c += 1\n",
        "\n",
        "print(c)\n",
        "\n"
      ],
      "metadata": {
        "colab": {
          "base_uri": "https://localhost:8080/"
        },
        "id": "7ZrBX4TK7-nC",
        "outputId": "96b93f4f-25c6-4266-9f35-94a6bc189739"
      },
      "execution_count": null,
      "outputs": [
        {
          "output_type": "stream",
          "name": "stdout",
          "text": [
            "16\n",
            "5\n"
          ]
        }
      ]
    },
    {
      "cell_type": "markdown",
      "source": [
        "A person is traveeling from A to B. He will take 12 hours to reach the destination by roads. As the person starts his journey, he has to note the current time in hours H and minues M (non negative integer input). The task is to find the time left for him yo reach the destination (output). If current time (hours or minutes) is a value exceeding 24hrs, the output should be a negative integer value, representing total exceeded hours and minutes."
      ],
      "metadata": {
        "id": "cz65bF3v_9E0"
      }
    },
    {
      "cell_type": "code",
      "source": [
        "def time_left_to_reach(H, M):\n",
        "    # Validate input\n",
        "    if H < 0 or M < 0:\n",
        "        return \"Invalid input\"\n",
        "\n",
        "    # Calculate arrival time\n",
        "    total_minutes = H * 60 + M + 12 * 60\n",
        "    arrival_hours = total_minutes // 60\n",
        "    arrival_minutes = total_minutes % 60\n",
        "\n",
        "    # Check if time exceeds 24 hours\n",
        "    if arrival_hours >= 24:\n",
        "        exceeded_hours = arrival_hours - 24\n",
        "        return f\"-{exceeded_hours} hours {arrival_minutes} minutes\"\n",
        "\n",
        "    # Calculate time left correctly\n",
        "    remaining_time = 12 * 60 - (H * 60 + M)\n",
        "    remaining_hours = remaining_time // 60\n",
        "    remaining_minutes = remaining_time % 60\n",
        "\n",
        "    return f\"{remaining_hours} hours {remaining_minutes} minutes\"\n",
        "\n",
        "# Example usage\n",
        "H, M = map(int, input(\"Enter current time (hours minutes): \").split())\n",
        "print(time_left_to_reach(H, M))\n"
      ],
      "metadata": {
        "colab": {
          "base_uri": "https://localhost:8080/"
        },
        "id": "5GUylajn_9X_",
        "outputId": "c3ce1b0c-aa04-4084-9733-91ddffd01412"
      },
      "execution_count": null,
      "outputs": [
        {
          "output_type": "stream",
          "name": "stdout",
          "text": [
            "Enter current time (hours minutes): 1 15\n",
            "10 hours 45 minutes\n"
          ]
        }
      ]
    },
    {
      "cell_type": "code",
      "source": [
        "def time_at_destination(H, M):\n",
        "    # Validate input\n",
        "    if H < 0 or M < 0:\n",
        "        return \"Invalid input\"\n",
        "\n",
        "    # Calculate arrival time\n",
        "    total_minutes = H * 60 + M + 12 * 60\n",
        "    arrival_hours = (total_minutes // 60) % 24  # Ensure it wraps around 24-hour format\n",
        "    arrival_minutes = total_minutes % 60\n",
        "\n",
        "    return f\"Arrival time: {arrival_hours:02}:{arrival_minutes:02}\"\n",
        "\n",
        "# Example usage\n",
        "H, M = map(int, input(\"Enter current time (hours minutes): \").split())\n",
        "print(time_at_destination(H, M))\n"
      ],
      "metadata": {
        "colab": {
          "base_uri": "https://localhost:8080/"
        },
        "id": "86hhtYPTH7vF",
        "outputId": "6b644097-d537-4368-f7c3-e9f6e2f4b4ba"
      },
      "execution_count": null,
      "outputs": [
        {
          "output_type": "stream",
          "name": "stdout",
          "text": [
            "Enter current time (hours minutes): 1 15\n",
            "Arrival time: 13:15\n"
          ]
        }
      ]
    },
    {
      "cell_type": "markdown",
      "source": [
        "**Zombie Game**\n",
        "\n",
        "n zombies\n",
        "\n",
        "int Zi (zombie's energy) where 1 <= i <= n\n",
        "\n",
        "bob will start with b energy\n",
        "\n",
        "if bob can kill all zombies, print yes, else no\n",
        "\n",
        "(zi % 2) + (zi / 2) power will be lost by bob after he kills a zombie"
      ],
      "metadata": {
        "id": "8Ao-eochFB1P"
      }
    },
    {
      "cell_type": "code",
      "source": [
        "n = int(input())\n",
        "b = int(input())\n",
        "\n",
        "for i in range(0,n):\n",
        "   z = int(input())\n",
        "   if b > z:\n",
        "    c = (z%2) + (z/2)\n",
        "    b -= c\n",
        "\n",
        "if b <= 0:\n",
        "  print(\"no\")\n",
        "else:\n",
        "  print(\"yes\")"
      ],
      "metadata": {
        "colab": {
          "base_uri": "https://localhost:8080/"
        },
        "id": "GInmOlPKF8lA",
        "outputId": "6f338395-c94e-43f6-8a56-c015166b1faa"
      },
      "execution_count": null,
      "outputs": [
        {
          "output_type": "stream",
          "name": "stdout",
          "text": [
            "3\n",
            "35\n",
            "5\n",
            "9\n",
            "6\n",
            "yes\n"
          ]
        }
      ]
    },
    {
      "cell_type": "markdown",
      "source": [
        "given a string in which the same character occurs in many consecutive character elements. your task is to find the characters that have even frequency and are consecutive. display the sum of every frequency count (for even frequency only)\n",
        "\n",
        "\\\n",
        "sample io:\n",
        "\n",
        "aaabbaccccdd\n",
        "\n",
        "8\n",
        "\n",
        "\\\n",
        "vdkkmmmnn\n",
        "\n",
        "4"
      ],
      "metadata": {
        "id": "uRecYzaZTpQC"
      }
    },
    {
      "cell_type": "code",
      "source": [
        "a = input()\n",
        "c = 1\n",
        "sum = 0\n",
        "for i in range(1, len(a)):\n",
        "  if a[i] == a[i-1]:\n",
        "    c += 1\n",
        "  else:\n",
        "    if c % 2 == 0:\n",
        "      sum += c\n",
        "      c = 1\n",
        "\n",
        "if c % 2 == 0:\n",
        "  sum += c\n",
        "\n",
        "print(sum)"
      ],
      "metadata": {
        "colab": {
          "base_uri": "https://localhost:8080/"
        },
        "id": "oyEyv8R1UfUo",
        "outputId": "6f22f854-2547-4f27-91d8-8611ee4a37aa"
      },
      "execution_count": null,
      "outputs": [
        {
          "output_type": "stream",
          "name": "stdout",
          "text": [
            "aaabbaccccdd\n",
            "10\n"
          ]
        }
      ]
    },
    {
      "cell_type": "markdown",
      "source": [
        "given a set of numbers, find the highest product between two numbers in that array and print the sum of those two numbers"
      ],
      "metadata": {
        "id": "BFLpvWWxf3JY"
      }
    },
    {
      "cell_type": "code",
      "source": [
        "n = int(input())\n",
        "a = []\n",
        "\n",
        "for i in range(n):\n",
        "    a.append(int(input()))\n",
        "\n",
        "p = 0  # Start with 0 since product can be negative\n",
        "s = 0\n",
        "\n",
        "for i in range(n):\n",
        "    for j in range(i + 1, n):\n",
        "        product = a[i] * a[j]\n",
        "        if product > p:\n",
        "            p = product\n",
        "            s = a[i] + a[j]\n",
        "\n",
        "print(p)\n",
        "print(s)"
      ],
      "metadata": {
        "colab": {
          "base_uri": "https://localhost:8080/"
        },
        "id": "I9BJ7Xmtahe_",
        "outputId": "3a802d37-4c84-423a-f33a-f5d97f5fb5d2"
      },
      "execution_count": null,
      "outputs": [
        {
          "output_type": "stream",
          "name": "stdout",
          "text": [
            "6\n",
            "9\n",
            "-3\n",
            "8\n",
            "-6\n",
            "-7\n",
            "10\n",
            "90\n",
            "19\n"
          ]
        }
      ]
    },
    {
      "cell_type": "markdown",
      "source": [
        "a shopkeeper in a nearby town always starts a bussiness with 0 money. he never uses the previos days money for transaction. any item in the shop costs 30 there are n number of customers waiting in the queue to buy items. a customer can buy any number of items but worth only 30 . the customer can transact with shopkeeper only with the denominations 30, 60, 120. task here is to find the transaction between the shopkeeper and customer is possible\n",
        "\n",
        "\\\n",
        "\n",
        "the customer should be able to buy the item\n",
        "\n",
        "the amount each customer uses for his transactions is given as array of elements\n",
        "\n",
        "the shopkeeper should be able to return the exact change\n",
        "\n",
        "diaplay 'transaction succesful' on the successful transaction with all the customers in queue\n",
        "\n",
        "display 'transaction failed' on the unsuccessful transaction with any one of the customer in the queue\n",
        "\n",
        "\n",
        "\n",
        "sample input:\n",
        "\n",
        "3\n",
        "\n",
        "30\n",
        "\n",
        "30\n",
        "\n",
        "\n",
        "60 -> a[] elements a[0] to a[n-1], where input of each element is separated by a new line.\n",
        "\n",
        "\\\n",
        "sample output:\n",
        "\n",
        "Transaction successful"
      ],
      "metadata": {
        "id": "yg_E8I4ZgnGc"
      }
    },
    {
      "cell_type": "code",
      "source": [
        "n = int(input())  # Number of customers\n",
        "a = []  # List to store the payments\n",
        "\n",
        "for _ in range(n):\n",
        "    a.append(int(input()))  # Read each payment\n",
        "\n",
        "b_30 = 0\n",
        "b_60 = 0\n",
        "\n",
        "for p in a:\n",
        "    if p == 30:\n",
        "        b_30 += 1  # No change needed\n",
        "    elif p == 60:\n",
        "        if b_30 > 0:\n",
        "            b_30 -= 1\n",
        "            b_60 += 1\n",
        "        else:\n",
        "            print(\"Transaction failed\")\n",
        "            break\n",
        "    elif p == 120:\n",
        "        if b_60 > 0 and b_30 > 0:  # Prefer giving 60 + 30 as change\n",
        "            b_60 -= 1\n",
        "            b_30 -= 1\n",
        "        elif b_30 >= 3:  # Otherwise, give three 30s as change\n",
        "            b_30 -= 3\n",
        "        else:\n",
        "            print(\"Transaction failed\")\n",
        "            break\n",
        "else:\n",
        "    print(\"Transaction successful\")\n"
      ],
      "metadata": {
        "colab": {
          "base_uri": "https://localhost:8080/"
        },
        "id": "WehromGXiBZN",
        "outputId": "a2ebb59f-8784-448f-85b0-ca9615372944"
      },
      "execution_count": null,
      "outputs": [
        {
          "output_type": "stream",
          "name": "stdout",
          "text": [
            "5\n",
            "30\n",
            "30\n",
            "60\n",
            "120\n",
            "30\n",
            "Transaction successful\n"
          ]
        }
      ]
    },
    {
      "cell_type": "markdown",
      "source": [
        "A thief pretending to be a customer entered a jewellery store. On the same night, he planned a bulgary. There is N number of items with their (a[]) on display boards. The thief scans through the prices of all the items. The task here is to find the most expensive items of jewellery to steal.\n",
        "\n",
        "\\\n",
        "Input:\n",
        "\n",
        "8 -> value of N\n",
        "\n",
        "102 101 5 7 99 1 2 3 -> a[], Elements a[0] to a[N-1], where input each element is separated by a new line.\n",
        "\n",
        "\\\n",
        "Output:\n",
        "\n",
        "111 -> Number of elements whose adjacent elements are greater."
      ],
      "metadata": {
        "id": "P4PsSaZt-5Ue"
      }
    },
    {
      "cell_type": "code",
      "source": [
        "n = int(input())\n",
        "a = []\n",
        "\n",
        "for i in range(n):\n",
        "  a.append(int(input()))\n",
        "\n",
        "count = 0\n",
        "\n",
        "# Check for peaks\n",
        "for i in range(1, n - 1):\n",
        "    if a[i] > a[i - 1] and a[i] > a[i + 1]:\n",
        "        count += 1\n",
        "\n",
        "print(count)"
      ],
      "metadata": {
        "colab": {
          "base_uri": "https://localhost:8080/"
        },
        "id": "NuXchYKgAKMO",
        "outputId": "617e5a7e-c638-444e-ac8b-781f1d52389f"
      },
      "execution_count": null,
      "outputs": [
        {
          "output_type": "stream",
          "name": "stdout",
          "text": [
            "8\n",
            "102\n",
            "101\n",
            "5\n",
            "7\n",
            "99\n",
            "1\n",
            "2\n",
            "3\n",
            "99\n"
          ]
        }
      ]
    },
    {
      "cell_type": "markdown",
      "source": [
        "Given a string Str, which contains numbers (0 to 9) and also letters of the English. The task here is to reverse string in such a way that the numbers in the string are left unaltered.\n",
        "\n",
        "\\\n",
        "Input:\n",
        "\n",
        "a1b2igh3\n",
        "\n",
        "Output:\n",
        "\n",
        "h1g2iba3\n",
        "\n",
        "\\\n",
        "\\\n",
        "Input:\n",
        "\n",
        "Ab5c7de96\n",
        "\n",
        "Output:\n",
        "\n",
        "ed5c7bA96"
      ],
      "metadata": {
        "id": "Vvo8Lt6qDY4j"
      }
    },
    {
      "cell_type": "code",
      "source": [
        "s = input()\n",
        "\n",
        "a = []\n",
        "s_list = list(s)\n",
        "\n",
        "for i in range(len(s_list)):\n",
        "    if s_list[i].isalpha():\n",
        "        a.append(s_list[i])\n",
        "        s_list[i] = None\n",
        "\n",
        "n = len(a)\n",
        "\n",
        "for i in range(len(s_list)):\n",
        "    if s_list[i] is None:\n",
        "        s_list[i] = a[n-1]\n",
        "        n -= 1\n",
        "\n",
        "print(\"\".join(s_list))"
      ],
      "metadata": {
        "colab": {
          "base_uri": "https://localhost:8080/"
        },
        "id": "UKqRNTbhEOJb",
        "outputId": "659ebc81-3d86-429e-a945-a702c77f4096"
      },
      "execution_count": null,
      "outputs": [
        {
          "output_type": "stream",
          "name": "stdout",
          "text": [
            "a1b2igh3\n",
            "h1g2iba3\n"
          ]
        }
      ]
    },
    {
      "cell_type": "markdown",
      "source": [
        "You are given an implicit integer array containing elements from 1 to n (where n is unknown and not explicitly provided).\n",
        "\n",
        "A user selects two numbers from this array as input. The discount is calculated based on the elements between the indices (inclusive) of these two selected numbers.\n",
        "\n",
        "Condition for Discount Calculation:\n",
        "The discount is the count of numbers in the selected range that have a prime number of divisors.\n",
        "\n",
        "\\\n",
        "Input Format:\n",
        "\n",
        "Two integers a and b, which are elements of the array (not indices).\n",
        "\n",
        "The input numbers determine the range within the array.\n",
        "\n",
        "\\\n",
        "Output Format:\n",
        "\n",
        "An integer representing the discount (the count of numbers in the selected range that have a prime number of divisors)."
      ],
      "metadata": {
        "id": "xp4xflmLHB1Y"
      }
    },
    {
      "cell_type": "code",
      "source": [
        "import math\n",
        "\n",
        "a, b = map(int, input(\"Enter two numbers separated by space: \").split())\n",
        "\n",
        "start, end = min(a, b), max(a, b)\n",
        "\n",
        "discount = 0\n",
        "\n",
        "for num in range(start, end + 1):\n",
        "    divisors = 0\n",
        "\n",
        "    for i in range(1, int(math.sqrt(num)) + 1):\n",
        "        if num % i == 0:\n",
        "            if i * i == num:\n",
        "                divisors += 1\n",
        "            else:\n",
        "                divisors += 2\n",
        "\n",
        "    if divisors > 1:\n",
        "        is_prime = True\n",
        "        for j in range(2, int(math.sqrt(divisors)) + 1):\n",
        "            if divisors % j == 0:\n",
        "                is_prime = False\n",
        "                break\n",
        "        if is_prime:\n",
        "            discount += 1\n",
        "\n",
        "print(\"Discount:\", discount)\n"
      ],
      "metadata": {
        "colab": {
          "base_uri": "https://localhost:8080/"
        },
        "id": "SypGylnuHPd4",
        "outputId": "98fc8b4b-1dfb-4b41-ed85-e9ed1a159101"
      },
      "execution_count": null,
      "outputs": [
        {
          "output_type": "stream",
          "name": "stdout",
          "text": [
            "Enter two numbers separated by space: 10 16\n",
            "Discount: 3\n"
          ]
        }
      ]
    },
    {
      "cell_type": "markdown",
      "source": [
        "Given N stones, each stone has some weight assigned to it. A box with C capacity is also given. The task is to find out the minimum number of boxes to keep the stones.\n",
        "\n",
        "\\\n",
        "Input:\n",
        "\n",
        "5 -> value of n\n",
        "\n",
        "10 20 30 40 50 -> elements of arr[]\n",
        "\n",
        "60 -> value of c\n",
        "\n",
        "\\\n",
        "Ouput:\n",
        "\n",
        "3 -> minimum 3 boxes required"
      ],
      "metadata": {
        "id": "0fT9rHgQMkl8"
      }
    },
    {
      "cell_type": "code",
      "source": [
        "N = int(input())\n",
        "stones = list(map(int, input().split()))\n",
        "C = int(input())\n",
        "\n",
        "stones.sort(reverse=True)\n",
        "\n",
        "boxes = 0\n",
        "while stones:\n",
        "    remaining_capacity = C\n",
        "    i = 0\n",
        "    while i < len(stones):\n",
        "        if stones[i] <= remaining_capacity:\n",
        "            remaining_capacity -= stones[i]\n",
        "            stones.pop(i)\n",
        "        else:\n",
        "            i += 1\n",
        "    boxes += 1\n",
        "print(boxes)"
      ],
      "metadata": {
        "colab": {
          "base_uri": "https://localhost:8080/"
        },
        "id": "xDdQ8Of1NCCj",
        "outputId": "cf04f6da-2534-4ac2-e501-5778d391e4e1"
      },
      "execution_count": null,
      "outputs": [
        {
          "output_type": "stream",
          "name": "stdout",
          "text": [
            "5\n",
            "10 20 30 40 50\n",
            "60\n",
            "3\n"
          ]
        }
      ]
    },
    {
      "cell_type": "markdown",
      "source": [
        "Ram is a business man. Everyday he has to travel to different cities. There are N cities in the list(a[]) that he has to pass through to reach his destination.\n",
        "His destination is the last city in the list. He always starts from his home city (a[0]). The max distance Ram can travel when he is at a city is given by a[i].It takes 1 unit of time each he travels from any one city to another.\n",
        "\n",
        "input:\n",
        "8 -> value of n\n",
        "1 2 1 1 3 5 6 4 -> a[]\n",
        "\n",
        "output:\n",
        "4"
      ],
      "metadata": {
        "id": "KL-m749wdd9Y"
      }
    },
    {
      "cell_type": "code",
      "source": [
        "def min_jumps(n, a):\n",
        "    if n <= 1:\n",
        "        return 0  # Already at destination\n",
        "\n",
        "    jumps = 0\n",
        "    current_end = 0\n",
        "    farthest = 0\n",
        "\n",
        "    for i in range(n - 1):  # No need to check the last city\n",
        "        farthest = max(farthest, i + a[i])\n",
        "\n",
        "        if i == current_end:\n",
        "            jumps += 1\n",
        "            current_end = farthest\n",
        "\n",
        "            if current_end >= n - 1:\n",
        "                break  # Destination reached\n",
        "\n",
        "    return jumps\n",
        "\n",
        "# Taking user input\n",
        "n = int(input(\"Enter the number of cities: \"))\n",
        "a = list(map(int, input(\"Enter the distances (space-separated): \").split()))\n",
        "\n",
        "print(\"Minimum jumps required:\", min_jumps(n, a))"
      ],
      "metadata": {
        "id": "FI_yHE-0eokx"
      },
      "execution_count": null,
      "outputs": []
    },
    {
      "cell_type": "markdown",
      "source": [
        "A safety and security agency communicates to its employees only in secret msgs in case of emergency. The employee send the msg with a secret code (key). Here, the code will be the same combo of char in both the msgs (str) sent. the task is find the combo of letters (key) that is present in both the strings.\n",
        "\n",
        "\\\n",
        "Input format:\n",
        "\n",
        "The candidate has to write the code to accept 2 inputs.\n",
        "\n",
        "First input - Accept a string val consisting of only literal char\n",
        "\n",
        "2nd input - acc a str val consisting of only lietral char\n",
        "\n",
        "\\\n",
        "Output:\n",
        "\n",
        "combination of letters present in both strings\n",
        "\n",
        "\\\n",
        "Input:\n",
        "\n",
        "abcdefgh\n",
        "\n",
        "abcdxyz\n",
        "\n",
        "\\\n",
        "Output:\n",
        "\n",
        "abcd"
      ],
      "metadata": {
        "id": "uqZvv9nQiQQc"
      }
    },
    {
      "cell_type": "code",
      "source": [
        "s1 = input().strip()\n",
        "s2 = input().strip()\n",
        "key = \"\".join([char for char in s1 if char in s2])\n",
        "print(key)"
      ],
      "metadata": {
        "colab": {
          "base_uri": "https://localhost:8080/"
        },
        "id": "mTRDroRnirOc",
        "outputId": "7275978d-b1c3-497e-8bf7-6b6854f68a97"
      },
      "execution_count": null,
      "outputs": [
        {
          "output_type": "stream",
          "name": "stdout",
          "text": [
            "abcdefgh\n",
            "abcdxyz\n",
            "abcd\n"
          ]
        }
      ]
    },
    {
      "cell_type": "markdown",
      "source": [
        "You are given an array of n positive intergers. you need to convert the given array to zero-array.\n",
        "\n",
        "An array is known as zero array if the bitwise AND of all the elements of the array is 0.\n",
        "\n",
        "for example, [1, 2, 3] is a zero array.\n",
        "\n",
        "Choose any array elements from array, say arr[i] and flip exatly one bit in arr[i].\n",
        "\n",
        "you need to find the min number of moves to convert the given array to zero array."
      ],
      "metadata": {
        "id": "QV-A2fIQm-iF"
      }
    },
    {
      "cell_type": "code",
      "source": [
        "n = int(input())\n",
        "arr = list(map(int, input().split()))\n",
        "\n",
        "overall_and = arr[0]\n",
        "for i in range(1, n):\n",
        "    overall_and &= arr[i]\n",
        "\n",
        "if overall_and == 0:\n",
        "    print(0)\n",
        "else:\n",
        "    moves = bin(overall_and).count('1')\n",
        "    print(moves)\n"
      ],
      "metadata": {
        "colab": {
          "base_uri": "https://localhost:8080/"
        },
        "id": "Ret9i1tAn5nt",
        "outputId": "5c788752-964d-4f34-8574-616c437a1100"
      },
      "execution_count": null,
      "outputs": [
        {
          "output_type": "stream",
          "name": "stdout",
          "text": [
            "3\n",
            "15 7 7\n",
            "3\n"
          ]
        }
      ]
    }
  ]
}